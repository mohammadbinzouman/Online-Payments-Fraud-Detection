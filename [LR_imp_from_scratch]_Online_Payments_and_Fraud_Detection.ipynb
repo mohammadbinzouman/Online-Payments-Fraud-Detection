{
  "nbformat": 4,
  "nbformat_minor": 0,
  "metadata": {
    "colab": {
      "provenance": [],
      "collapsed_sections": []
    },
    "kernelspec": {
      "name": "python3",
      "display_name": "Python 3"
    },
    "language_info": {
      "name": "python"
    }
  },
  "cells": [
    {
      "cell_type": "markdown",
      "source": [
        "## **#1 Import Libraries**"
      ],
      "metadata": {
        "id": "y_sE2kFwpVqc"
      }
    },
    {
      "cell_type": "code",
      "execution_count": 1,
      "metadata": {
        "id": "HoFKlhvU6YaB"
      },
      "outputs": [],
      "source": [
        "import numpy as np\n",
        "from matplotlib import pyplot as plt\n",
        "from sklearn import datasets\n",
        "\n",
        "import pandas as pd\n",
        "from sklearn.model_selection import train_test_split\n",
        "\n",
        "import math\n",
        "from sklearn.model_selection import cross_val_score\n",
        "from sklearn.model_selection import ShuffleSplit\n",
        "\n",
        "from imblearn.under_sampling import RandomUnderSampler\n",
        "from sklearn.preprocessing import StandardScaler"
      ]
    },
    {
      "cell_type": "markdown",
      "metadata": {
        "id": "w-GHUihCS4oY"
      },
      "source": [
        "## **#2 Load Dataset**"
      ]
    },
    {
      "cell_type": "code",
      "source": [
        "dataset_url = 'https://media.githubusercontent.com/media/mohammadbinzouman/Online-Payments-and-Fraud-Detection/main/Dataset/OnlinePayments.csv'\n",
        "df = pd.read_csv(dataset_url)"
      ],
      "metadata": {
        "id": "j4pEN6pO9d0A"
      },
      "execution_count": 2,
      "outputs": []
    },
    {
      "cell_type": "markdown",
      "metadata": {
        "id": "oA3jk-IrTBB5"
      },
      "source": [
        "## **#3 Create Model + Preprocessing**"
      ]
    },
    {
      "cell_type": "code",
      "source": [
        "def sigmoid_function(z):\n",
        "    return 1 / (1 + np.exp(-z))"
      ],
      "metadata": {
        "id": "qwaU_pSX9i23"
      },
      "execution_count": 3,
      "outputs": []
    },
    {
      "cell_type": "code",
      "source": [
        "def cost_function(f_wb, y):\n",
        "    epsilon = 1e-5 \n",
        "    return (-y * np.log(f_wb + epsilon) - (1 - y) * np.log(1 - f_wb + epsilon)).mean()"
      ],
      "metadata": {
        "id": "crUya9vn9piu"
      },
      "execution_count": 4,
      "outputs": []
    },
    {
      "cell_type": "code",
      "source": [
        "# Computes the gradient for logistic regression.\n",
        "def compute_gradient(X, y, w, b, f_wb, lambda_=None): \n",
        "\n",
        "    m = X.shape[0]\n",
        "    dj_dw = np.zeros(w.shape)\n",
        "    dj_db = 0.\n",
        "\n",
        "    dj_dw = np.dot(X.T, f_wb - y) / m\n",
        "    dj_db = np.sum(np.subtract(f_wb, y)) / m\n",
        "\n",
        "    return dj_db, dj_dw"
      ],
      "metadata": {
        "id": "0SX44zoLOExQ"
      },
      "execution_count": 5,
      "outputs": []
    },
    {
      "cell_type": "code",
      "source": [
        "# here alpha is the learning rate, X is the feature matrix, y is the target matrix.\n",
        "def logistic_reg(alpha, X, y, max_iterations=70000):\n",
        "    w = np.zeros(X.shape[1])\n",
        "    b = 0.\n",
        "\n",
        "    # An array to store cost J at each iteration for graphing later.\n",
        "    J_history = []\n",
        "\n",
        "    for iterations in range(max_iterations):\n",
        "        z = np.dot(X, w) + b\n",
        "        f_wb = sigmoid_function(z)\n",
        "        dj_db, dj_dw = compute_gradient(X, y, w, b, f_wb)\n",
        "\n",
        "        w = w - alpha * dj_dw  # updating the weights\n",
        "        b = b - alpha * dj_db\n",
        "\n",
        "        z = np.dot(X, w) + b\n",
        "        f_wb = sigmoid_function(z)\n",
        "        J = cost_function(f_wb, y)\n",
        "\n",
        "        J_history.append(J)\n",
        "\n",
        "        # Print cost every at intervals 10 times or as many iterations if < 10\n",
        "        if iterations% math.ceil(max_iterations/10) == 0 or iterations == (max_iterations-1):\n",
        "          print(f\"Iteration {iterations:4}: Cost= {J}\")\n",
        "\n",
        "        ''' if iterations % 100 == 0:\n",
        "            print(f\"loss for itreration {iterations}: {J} \\t\")  # printing the loss after every 100 iterations '''\n",
        "\n",
        "    return w, b, J_history"
      ],
      "metadata": {
        "id": "PxFsaM069vGO"
      },
      "execution_count": 6,
      "outputs": []
    },
    {
      "cell_type": "code",
      "source": [
        "# Transform categorical features into numeric.\n",
        "df[\"type\"] = df[\"type\"].map({\"CASH_OUT\": 1, \"PAYMENT\": 2, \n",
        "                             \"CASH_IN\": 3, \"TRANSFER\": 4,\n",
        "                             \"DEBIT\": 5})\n",
        "print(df.head())"
      ],
      "metadata": {
        "colab": {
          "base_uri": "https://localhost:8080/"
        },
        "id": "isqMMITX-G1x",
        "outputId": "7ab676e4-2ec7-4f74-c4a5-21f5810effa1"
      },
      "execution_count": 7,
      "outputs": [
        {
          "output_type": "stream",
          "name": "stdout",
          "text": [
            "   step  type    amount     nameOrig  oldbalanceOrg  newbalanceOrig  \\\n",
            "0     1     2   9839.64  C1231006815       170136.0       160296.36   \n",
            "1     1     2   1864.28  C1666544295        21249.0        19384.72   \n",
            "2     1     4    181.00  C1305486145          181.0            0.00   \n",
            "3     1     1    181.00   C840083671          181.0            0.00   \n",
            "4     1     2  11668.14  C2048537720        41554.0        29885.86   \n",
            "\n",
            "      nameDest  oldbalanceDest  newbalanceDest  isFraud  isFlaggedFraud  \n",
            "0  M1979787155             0.0             0.0        0               0  \n",
            "1  M2044282225             0.0             0.0        0               0  \n",
            "2   C553264065             0.0             0.0        1               0  \n",
            "3    C38997010         21182.0             0.0        1               0  \n",
            "4  M1230701703             0.0             0.0        0               0  \n"
          ]
        }
      ]
    },
    {
      "cell_type": "code",
      "source": [
        "# Split the data into X = independent variables, y = depndent variable.\n",
        "X = np.array(df[[\"type\", \"amount\", \"oldbalanceOrg\", \"newbalanceOrig\", 'oldbalanceDest', 'newbalanceDest']])\n",
        "y = np.array(df[[\"isFraud\"]])"
      ],
      "metadata": {
        "id": "pNLfo9E1Eho_"
      },
      "execution_count": 8,
      "outputs": []
    },
    {
      "cell_type": "code",
      "source": [
        "# Since the dataset is huge I will decrease its size to avoid crashes due to memory usage, and to save time.\n",
        "rus = RandomUnderSampler(sampling_strategy=0.2)\n",
        "X_res, y_res = rus.fit_resample(X, y)\n",
        "\n",
        "print('X Shape:', X.shape)\n",
        "print('y Shape:', y.shape)\n",
        "print()\n",
        "print('X_res Shape:', X_res.shape)\n",
        "print('y_res Shape:', y_res.shape)"
      ],
      "metadata": {
        "colab": {
          "base_uri": "https://localhost:8080/"
        },
        "id": "y2ErO2bhGz-x",
        "outputId": "add41732-aaf0-4880-c329-a0281da88a49"
      },
      "execution_count": 9,
      "outputs": [
        {
          "output_type": "stream",
          "name": "stdout",
          "text": [
            "X Shape: (6362620, 6)\n",
            "y Shape: (6362620, 1)\n",
            "\n",
            "X_res Shape: (49278, 6)\n",
            "y_res Shape: (49278,)\n"
          ]
        }
      ]
    },
    {
      "cell_type": "code",
      "source": [
        "# Use standard scaler to avoid runtime errors after the under sampling step.\n",
        "sc_X = StandardScaler()\n",
        "X_res = sc_X.fit_transform(X_res)"
      ],
      "metadata": {
        "id": "uysceXRCJGNI"
      },
      "execution_count": 10,
      "outputs": []
    },
    {
      "cell_type": "code",
      "source": [
        "# Target variable class distribution.\n",
        "print('Target variable class distribution of [y]\\n', pd.DataFrame(y).value_counts())\n",
        "print()\n",
        "print('Target variable class distribution of [y_res]\\n', pd.DataFrame(y_res).value_counts()) "
      ],
      "metadata": {
        "colab": {
          "base_uri": "https://localhost:8080/"
        },
        "id": "gM6nQAOQHubO",
        "outputId": "71641fd2-6388-43cb-fb3a-f8d0b58f7a8b"
      },
      "execution_count": 11,
      "outputs": [
        {
          "output_type": "stream",
          "name": "stdout",
          "text": [
            "Target variable class distribution of [y]\n",
            " 0    6354407\n",
            "1       8213\n",
            "dtype: int64\n",
            "\n",
            "Target variable class distribution of [y_res]\n",
            " 0    41065\n",
            "1     8213\n",
            "dtype: int64\n"
          ]
        }
      ]
    },
    {
      "cell_type": "code",
      "source": [
        "# Split into train test sets.\n",
        "X_train, X_test, y_train, y_test = train_test_split(X_res, y_res, test_size=0.10, random_state=42)\n",
        "\n",
        "print('X_train Shape: ', X_train.shape)\n",
        "print('y_train Shape: ', y_train.shape)\n",
        "print()\n",
        "print('X_test Shape: ', X_test.shape)\n",
        "print('y_test Shape:', y_test.shape)\n",
        "print()\n",
        "print('Target variable class distribution of [y_train]\\n', pd.DataFrame(y_train).value_counts())\n",
        "print()\n",
        "print('Target variable class distribution of [y_test]\\n', pd.DataFrame(y_test).value_counts())"
      ],
      "metadata": {
        "colab": {
          "base_uri": "https://localhost:8080/"
        },
        "id": "7RmEnTYV-LFn",
        "outputId": "7dbe7667-4703-4ff2-a229-70fce560dbfb"
      },
      "execution_count": 12,
      "outputs": [
        {
          "output_type": "stream",
          "name": "stdout",
          "text": [
            "X_train Shape:  (44350, 6)\n",
            "y_train Shape:  (44350,)\n",
            "\n",
            "X_test Shape:  (4928, 6)\n",
            "y_test Shape: (4928,)\n",
            "\n",
            "Target variable class distribution of [y_train]\n",
            " 0    37006\n",
            "1     7344\n",
            "dtype: int64\n",
            "\n",
            "Target variable class distribution of [y_test]\n",
            " 0    4059\n",
            "1     869\n",
            "dtype: int64\n"
          ]
        }
      ]
    },
    {
      "cell_type": "markdown",
      "source": [
        "## **#4 Evaluation**"
      ],
      "metadata": {
        "id": "QsEmPbN6BxdP"
      }
    },
    {
      "cell_type": "code",
      "source": [
        "alpha = 0.1\n",
        "iterations = 10000\n",
        "\n",
        "w, b, J_history = logistic_reg(alpha, X_train, y_train, iterations)\n",
        "\n",
        "print(\"w: \", w)  # printing our weights vector and bias.\n",
        "print(\"b: \", b)\n",
        "\n",
        "plt.figure(figsize=(10, 6))\n",
        "plt.plot(np.linspace(0.0, iterations, iterations), J_history, color=\"b\")\n",
        "plt.xlabel('No. of iteration')\n",
        "plt.ylabel('Cost')\n",
        "plt.title('Learning Curve')\n",
        "plt.show()\n",
        "plt.clf()\n",
        "\n",
        "# alpha=1\n",
        "# Iteration 69999: Cost= 0.15199092130059647\n",
        "# Iteration 9999: Cost= 0.1886700074692684\n",
        "# Iteration 4999: Cost= 0.20932371925898738"
      ],
      "metadata": {
        "colab": {
          "base_uri": "https://localhost:8080/",
          "height": 647
        },
        "id": "AW_7bB_892Gb",
        "outputId": "a0e9905a-ea90-4550-d95c-ed1efc344fdd"
      },
      "execution_count": 13,
      "outputs": [
        {
          "output_type": "stream",
          "name": "stdout",
          "text": [
            "Iteration    0: Cost= 0.6792087390780421\n",
            "Iteration 1000: Cost= 0.33152209023284906\n",
            "Iteration 2000: Cost= 0.3211201245816456\n",
            "Iteration 3000: Cost= 0.31291787482125993\n",
            "Iteration 4000: Cost= 0.305560088140723\n",
            "Iteration 5000: Cost= 0.29885244641368347\n",
            "Iteration 6000: Cost= 0.2927458806434727\n",
            "Iteration 7000: Cost= 0.28719447541086146\n",
            "Iteration 8000: Cost= 0.2821378854683643\n",
            "Iteration 9000: Cost= 0.27752087044468216\n",
            "Iteration 9999: Cost= 0.27330128690081484\n",
            "w:  [ 0.3322306   1.12319039  5.66875736 -6.23639574  0.84920685 -1.51234652]\n",
            "b:  -1.730698545467671\n"
          ]
        },
        {
          "output_type": "display_data",
          "data": {
            "text/plain": [
              "<Figure size 720x432 with 1 Axes>"
            ],
            "image/png": "[encoded data removed]"
          },
          "metadata": {
            "needs_background": "light"
          }
        },
        {
          "output_type": "display_data",
          "data": {
            "text/plain": [
              "<Figure size 432x288 with 0 Axes>"
            ]
          },
          "metadata": {}
        }
      ]
    },
    {
      "cell_type": "code",
      "source": [
        "# Predict whether the label is 0 or 1 using learned logistic regression parameters w and b.\n",
        "def predict(X): \n",
        "    # number of training examples\n",
        "    m, n = X.shape   \n",
        "    p = np.zeros(m)\n",
        "\n",
        "    # Loop over each example\n",
        "    for i in range(m):   \n",
        "        z_wb = np.dot(X[i],w) \n",
        "        # Loop over each feature\n",
        "        for j in range(n): \n",
        "            # Add the corresponding term to z_wb\n",
        "            z_wb += 0\n",
        "        \n",
        "        # Add bias term \n",
        "        z_wb += b\n",
        "        \n",
        "        # Calculate the prediction for this example\n",
        "        f_wb = sigmoid_function(z_wb)\n",
        "        #print(f_wb)\n",
        "        # Apply the threshold\n",
        "        p[i] = 1 if f_wb>0.5 else 0\n",
        "        \n",
        "    return p"
      ],
      "metadata": {
        "id": "KcF8OyAcKG7W"
      },
      "execution_count": 14,
      "outputs": []
    },
    {
      "cell_type": "code",
      "source": [
        "#Compute accuracy on our training set\n",
        "p = predict(X_train)\n",
        "print('Train Accuracy: %f'%(np.mean(p == y_train) * 100))\n",
        "print()\n",
        "\n",
        "#Compute accuracy on our testing set\n",
        "p = predict(X_test)\n",
        "print('Test Accuracy: %f'%(np.mean(p == y_test) * 100))"
      ],
      "metadata": {
        "colab": {
          "base_uri": "https://localhost:8080/"
        },
        "id": "jA2xQozYPL1T",
        "outputId": "44f03682-c973-4632-c9ac-e599eb3335b9"
      },
      "execution_count": 15,
      "outputs": [
        {
          "output_type": "stream",
          "name": "stdout",
          "text": [
            "Train Accuracy: 89.781285\n",
            "\n",
            "Test Accuracy: 88.839286\n"
          ]
        }
      ]
    },
    {
      "cell_type": "code",
      "source": [
        "# prediction on new examples. [0 = Not Fraud, 1 = Fraud]\n",
        "#                    type      amount      oldbalanceOrg\t   newbalanceOrig\t   oldbalanceDest     newbalanceDest\n",
        "features = np.array([[2,      9839.64,        170136.0,        160296.36,            0,                 0]]) # no fraud.\n",
        "print(predict(features)) \n",
        "\n",
        "features = np.array([[2,      9839.64,        170136.0,        150296.36,            0,                 0]]) # Fraud.\n",
        "print(predict(features)) "
      ],
      "metadata": {
        "colab": {
          "base_uri": "https://localhost:8080/"
        },
        "id": "fadwblFbMKOt",
        "outputId": "2a21fa5c-a8bd-490c-d9d3-aedbef5b4b63"
      },
      "execution_count": 16,
      "outputs": [
        {
          "output_type": "stream",
          "name": "stdout",
          "text": [
            "[0.]\n",
            "[1.]\n"
          ]
        },
        {
          "output_type": "stream",
          "name": "stderr",
          "text": [
            "/usr/local/lib/python3.7/dist-packages/ipykernel_launcher.py:2: RuntimeWarning: overflow encountered in exp\n",
            "  \n"
          ]
        }
      ]
    }
  ]
}